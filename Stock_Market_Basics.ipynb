{
 "cells": [
  {
   "cell_type": "markdown",
   "id": "5cb8abef",
   "metadata": {},
   "source": [
    "# Stock Market Basics"
   ]
  },
  {
   "cell_type": "markdown",
   "id": "8fda234c",
   "metadata": {},
   "source": [
    "### by ReDay Zarra"
   ]
  },
  {
   "cell_type": "markdown",
   "id": "2ea8cce3",
   "metadata": {},
   "source": [
    "## Time Value of Money"
   ]
  },
  {
   "cell_type": "markdown",
   "id": "46dee70c",
   "metadata": {},
   "source": [
    "**Lead concept:** The time value of money (X dollars) is worth more than money in a year's time. This is because we may invest the X dollars today to buy stocks and other investments. Future money is worth less because inflation causes prices to increase which decreases buying power."
   ]
  },
  {
   "cell_type": "markdown",
   "id": "d367ab7e",
   "metadata": {},
   "source": [
    "> **Example:** We can invest the X dollars and recieve interest which will allow our investment to grow. The equation for exponential growth, in terms of interest rate, is provided below. The interest rate (r) is used as 0.05 for 5% and the number of years is n.\n",
    "\n",
    "$$\n",
    "f(x) = x(1+r)^n\n",
    "$$\n",
    "\n",
    "> Future value (FV) is the value of a current asset at a specified date in the future based on a predetermined rate of growth."
   ]
  },
  {
   "cell_type": "markdown",
   "id": "499c1ea6",
   "metadata": {},
   "source": []
  }
 ],
 "metadata": {
  "kernelspec": {
   "display_name": "Python 3 (ipykernel)",
   "language": "python",
   "name": "python3"
  },
  "language_info": {
   "codemirror_mode": {
    "name": "ipython",
    "version": 3
   },
   "file_extension": ".py",
   "mimetype": "text/x-python",
   "name": "python",
   "nbconvert_exporter": "python",
   "pygments_lexer": "ipython3",
   "version": "3.9.13"
  }
 },
 "nbformat": 4,
 "nbformat_minor": 5
}
