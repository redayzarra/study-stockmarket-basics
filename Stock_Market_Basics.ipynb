{
 "cells": [
  {
   "cell_type": "markdown",
   "id": "5cb8abef",
   "metadata": {},
   "source": [
    "# Stock Market Basics"
   ]
  },
  {
   "cell_type": "markdown",
   "id": "8fda234c",
   "metadata": {},
   "source": [
    "### by ReDay Zarra"
   ]
  },
  {
   "cell_type": "markdown",
   "id": "2ea8cce3",
   "metadata": {},
   "source": [
    "## The Value of Money"
   ]
  }
 ],
 "metadata": {
  "kernelspec": {
   "display_name": "Python 3 (ipykernel)",
   "language": "python",
   "name": "python3"
  },
  "language_info": {
   "codemirror_mode": {
    "name": "ipython",
    "version": 3
   },
   "file_extension": ".py",
   "mimetype": "text/x-python",
   "name": "python",
   "nbconvert_exporter": "python",
   "pygments_lexer": "ipython3",
   "version": "3.9.13"
  }
 },
 "nbformat": 4,
 "nbformat_minor": 5
}
