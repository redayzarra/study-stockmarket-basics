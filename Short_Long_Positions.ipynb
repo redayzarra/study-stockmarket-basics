{
 "cells": [
  {
   "cell_type": "markdown",
   "id": "e1e751e4",
   "metadata": {},
   "source": [
    "# Short and Long Postitions - Stock Market Basics"
   ]
  },
  {
   "cell_type": "markdown",
   "id": "2d469634",
   "metadata": {},
   "source": [
    "### ReDay Zarra"
   ]
  },
  {
   "cell_type": "markdown",
   "id": "86409d15",
   "metadata": {},
   "source": [
    "**Long postition:** When you own a security in the expectation that it will grow in value in the future. Investors make a profit by maintaining a long position.\n",
    "\n",
    "**Short position:** When you *sell a security you don't own* at a higher price and *then buy it again at a lower price*. Investors borrow an asset and then sell it on the open market... the price decreases and they are able to buy it at a discount. The investors **keep the difference and return the asset back**.\n",
    "\n",
    "**Lead concept:** Shorting (or short selling) is a lot more riskier than maintaining a long position. With long positions, the most you can lose is the price you bought the stock for (initial investment) . However, there is no limit to what you can lose with short positions because there is no limit to how much the stock can increase."
   ]
  },
  {
   "cell_type": "markdown",
   "id": "78fc62ac",
   "metadata": {},
   "source": [
    "## Why are stocks beneficial?"
   ]
  },
  {
   "cell_type": "markdown",
   "id": "b589bf1a",
   "metadata": {},
   "source": [
    "**Lead concept:** You can make profit by maintaining a long position if you feel that the stock is going to increase in value. If you think the stock price will decrease then you can also short sell the stock to make profit. **Stocks are considered to be a risky investment**.\n",
    "\n",
    "**Bear market:** When the market experiences stable price declines, so *when securities drop in price*. This is the best time to **make profit from short positions**. \n",
    "\n",
    "**Bull market:** When the market experiences stable price increase, so *when securities increase in price*. This is the best time to **make profit from long positions**."
   ]
  }
 ],
 "metadata": {
  "kernelspec": {
   "display_name": "Python 3 (ipykernel)",
   "language": "python",
   "name": "python3"
  },
  "language_info": {
   "codemirror_mode": {
    "name": "ipython",
    "version": 3
   },
   "file_extension": ".py",
   "mimetype": "text/x-python",
   "name": "python",
   "nbconvert_exporter": "python",
   "pygments_lexer": "ipython3",
   "version": "3.9.13"
  }
 },
 "nbformat": 4,
 "nbformat_minor": 5
}
