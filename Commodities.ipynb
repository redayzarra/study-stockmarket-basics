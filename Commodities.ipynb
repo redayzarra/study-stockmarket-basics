{
 "cells": [
  {
   "cell_type": "markdown",
   "id": "122ec225",
   "metadata": {},
   "source": [
    "# Commodities - Stock Market Basics"
   ]
  },
  {
   "cell_type": "markdown",
   "id": "9d2c8d70",
   "metadata": {},
   "source": [
    "### by ReDay Zarra"
   ]
  },
  {
   "cell_type": "markdown",
   "id": "1ec21d2b",
   "metadata": {},
   "source": [
    "**Commodities:** Raw products such as gold, oil, or natural gas. Investing in commoditites is not as simple because it is difficult to own a barrel of oil or natural gas. \n",
    "\n",
    "Generally, commodities *are extremely volatile* meaning their prices can change dramatically."
   ]
  },
  {
   "cell_type": "markdown",
   "id": "6c07e466",
   "metadata": {},
   "source": [
    "## Why do commodity prices fluctuate?"
   ]
  },
  {
   "cell_type": "markdown",
   "id": "8aec6556",
   "metadata": {},
   "source": [
    "**Lead concept:** Commodity prices fluctuate because of supply and demand. The more people who want to buy a commodity, the more the price increases. The price decreases if the supply increases.\n",
    "\n",
    "**Future contracts:** are created by producers and suppliers of commodities to avoid market volatility. They negotiate the price of a given commodity in the future."
   ]
  },
  {
   "cell_type": "markdown",
   "id": "d320948b",
   "metadata": {},
   "source": [
    "## Where can you buy commodities?"
   ]
  },
  {
   "cell_type": "markdown",
   "id": "e004016a",
   "metadata": {},
   "source": [
    "**Future market:** An auction market where people buy and sell commodities and future contracts. Investors do not have direct access to the future market.\n",
    "\n",
    "**Future brokers:** Investors can contact future brokers to buy or sell commodities on the future market. "
   ]
  },
  {
   "cell_type": "markdown",
   "id": "8afddf7b",
   "metadata": {},
   "source": [
    "## What are the benefits to owning commodities?"
   ]
  },
  {
   "cell_type": "markdown",
   "id": "c83f13e0",
   "metadata": {},
   "source": [
    "**Lead concept:** Commodity prices typically rise when inflation increases. This means that commodities can *offer protection from the negative affects of inflation*. \n",
    "\n",
    "**Pair trading strategy:** If we cannot invest into a commodity directly then we can *invest into a company that is closely related to the target commodity*. For example, if we aren't able to invest in avocados then we can invest in the companies that produce or distribute them. There may be some variance based on the company's performance but there is *usually positive correlation.* "
   ]
  }
 ],
 "metadata": {
  "kernelspec": {
   "display_name": "Python 3 (ipykernel)",
   "language": "python",
   "name": "python3"
  },
  "language_info": {
   "codemirror_mode": {
    "name": "ipython",
    "version": 3
   },
   "file_extension": ".py",
   "mimetype": "text/x-python",
   "name": "python",
   "nbconvert_exporter": "python",
   "pygments_lexer": "ipython3",
   "version": "3.9.13"
  }
 },
 "nbformat": 4,
 "nbformat_minor": 5
}
