{
 "cells": [
  {
   "cell_type": "markdown",
   "id": "5cb8abef",
   "metadata": {},
   "source": [
    "# Time Value of Money - Stock Market Basics"
   ]
  },
  {
   "cell_type": "markdown",
   "id": "8fda234c",
   "metadata": {},
   "source": [
    "### by ReDay Zarra"
   ]
  },
  {
   "cell_type": "markdown",
   "id": "c47114d1",
   "metadata": {},
   "source": [
    "**Lead concept:** The time value of money (X dollars) is worth more than money in a year's time. This is because we may invest the X dollars today to buy stocks and other investments. Future money is worth less because inflation causes prices to increase which decreases buying power."
   ]
  },
  {
   "cell_type": "markdown",
   "id": "2ea8cce3",
   "metadata": {},
   "source": [
    "## Discrete Model"
   ]
  },
  {
   "cell_type": "markdown",
   "id": "3bc4806d",
   "metadata": {},
   "source": [
    "Discrete models have distinct values and often have distinct time steps. Variables in discrete models often have seperate values, represented by integers, whole numbers, or sepearate categories."
   ]
  },
  {
   "cell_type": "markdown",
   "id": "1e865d54",
   "metadata": {},
   "source": [
    "> **Example:** We can invest the X dollars and recieve interest which will allow our investment to grow. The equation for exponential growth, in terms of interest rate, is provided below. The interest rate (r) is used as 0.05 for 5% and the number of years is n.\n",
    "\n",
    "$$\n",
    "\\text{Future Value} = x(1+r)^n\n",
    "$$\n",
    "\n",
    "> Future value (FV) is the value of a current asset at a specified date in the future based on a predetermined rate of growth.\n",
    "\n",
    "$$\n",
    "\\text{Present Value} = \\frac{x}{(1+r)^n}\n",
    "$$\n",
    "\n",
    "> Present value (PV) is how much the future sum of money is worth today based on a predetermined rate of growth"
   ]
  },
  {
   "cell_type": "markdown",
   "id": "a8c50123",
   "metadata": {},
   "source": [
    "## Continuous Model"
   ]
  },
  {
   "cell_type": "markdown",
   "id": "76c739a7",
   "metadata": {},
   "source": [
    "Continuous models have variables with an infinite range of values and often have continuous time. Variables can often have infinite number of values within a specific range. Time is also continuous meaning variables can change smoothly."
   ]
  },
  {
   "cell_type": "markdown",
   "id": "3ba73526",
   "metadata": {},
   "source": [
    "> **Example:** We have x(t) amount of dollars during a certain time (t). The increase in value from one day to the next is calculated by the equation below. The x(t + dt) variable represents the value of money after a dt day, and x(t) is the starting amount of money from time t. The result is the definition of derivatives:\n",
    "\n",
    "$$\n",
    "x(t + dt) - x(t) = \\frac{dx(t)}{dt}dt\n",
    "$$\n",
    "\n",
    "> The interest on the money must be proportional to the x(t) amount we had as well as the interest rate (r) and the time step (dt), which can be represented by the following:\n",
    "\n",
    "$$\n",
    "\\frac{dx(t)}{dt} \\cdot dt = r \\cdot x(t) \\cdot dt\n",
    "$$\n",
    "\n",
    "> This means that the fraction can be subsitituted with the following:\n",
    "\n",
    "$$\n",
    "\\frac{dx(t)}{dt}= r\\cdot x(t)\n",
    "$$\n",
    "\n",
    "> Solving for x(t) we get the equation for Future value (FV):\n",
    "\n",
    "$$\n",
    "\\text{Future Value} = x(0) \\cdot e^{rt}\n",
    "$$\n",
    "\n",
    "> We can calculate the Present value (PV) by simply changing the rate to negative:\n",
    "\n",
    "$$\n",
    "\\text{Present Value} = x(0) \\cdot e^{-rt}\n",
    "$$"
   ]
  },
  {
   "cell_type": "markdown",
   "id": "25a7af32",
   "metadata": {},
   "source": [
    "## Implementation of Time Value of Money"
   ]
  },
  {
   "cell_type": "code",
   "execution_count": 11,
   "id": "1beb6fec",
   "metadata": {},
   "outputs": [],
   "source": [
    "from math import exp\n",
    "\n",
    "def future_discrete_value(x, r, n):\n",
    "    return x*(1+r)** n"
   ]
  },
  {
   "cell_type": "code",
   "execution_count": 12,
   "id": "68f2113b",
   "metadata": {},
   "outputs": [],
   "source": [
    "def present_discrete_value(x, r, n):\n",
    "    return x*(1+r)** -n"
   ]
  },
  {
   "cell_type": "code",
   "execution_count": 13,
   "id": "83098532",
   "metadata": {},
   "outputs": [],
   "source": [
    "def future_continuous_value(x, r, t):\n",
    "    return x*exp(r*t)"
   ]
  },
  {
   "cell_type": "code",
   "execution_count": 14,
   "id": "8922b164",
   "metadata": {},
   "outputs": [],
   "source": [
    "def present_continuous_value(x, r, t):\n",
    "    return x*exp(-r*t)"
   ]
  },
  {
   "cell_type": "code",
   "execution_count": 17,
   "id": "ac481936",
   "metadata": {},
   "outputs": [],
   "source": [
    "x = 100 # Amount of dollars\n",
    "r = 0.05 # Interest rate of 5%\n",
    "n = 5 # Number of years"
   ]
  },
  {
   "cell_type": "code",
   "execution_count": 20,
   "id": "0ed78616",
   "metadata": {},
   "outputs": [
    {
     "name": "stdout",
     "output_type": "stream",
     "text": [
      "Future Discrete Value of X: $127.63\n",
      "Present Discrete Value of X: $78.35\n",
      "Future Continuous Value of X: $128.4\n",
      "Present Continuous Value of X: $77.88\n"
     ]
    }
   ],
   "source": [
    "print(\"Future Discrete Value of X: $%s\" % round(future_discrete_value(x, r, n), 2))\n",
    "print(\"Present Discrete Value of X: $%s\" % round(present_discrete_value(x, r, n), 2))\n",
    "print(\"Future Continuous Value of X: $%s\" % round(future_continuous_value(x, r, n), 2))\n",
    "print(\"Present Continuous Value of X: $%s\" % round(present_continuous_value(x, r, n), 2))"
   ]
  }
 ],
 "metadata": {
  "kernelspec": {
   "display_name": "Python 3 (ipykernel)",
   "language": "python",
   "name": "python3"
  },
  "language_info": {
   "codemirror_mode": {
    "name": "ipython",
    "version": 3
   },
   "file_extension": ".py",
   "mimetype": "text/x-python",
   "name": "python",
   "nbconvert_exporter": "python",
   "pygments_lexer": "ipython3",
   "version": "3.9.13"
  }
 },
 "nbformat": 4,
 "nbformat_minor": 5
}
