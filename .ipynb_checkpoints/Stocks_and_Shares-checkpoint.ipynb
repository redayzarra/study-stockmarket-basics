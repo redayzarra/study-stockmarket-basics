{
 "cells": [
  {
   "cell_type": "markdown",
   "id": "7623c796",
   "metadata": {},
   "source": [
    "# Stocks and Shares - Stock Market Basics"
   ]
  },
  {
   "cell_type": "markdown",
   "id": "d0befaf5",
   "metadata": {},
   "source": [
    "### by ReDay Zarra"
   ]
  },
  {
   "cell_type": "markdown",
   "id": "7fc1aea3",
   "metadata": {},
   "source": [
    "**Stocks:** Are the ownership of a piece of the company. This entitles the owner of the stock to a portion of the company's assets and profits equal to the amount of stock they own. \n",
    "\n",
    "**Shares:** Are the units of stocks.\n",
    "\n",
    "**Stock exchange:** Has a list of companies that want to raise capital by selling shares, the stock exchange unites buyers and sellers. Investors don't have direct contact with the stock exchange.\n",
    "\n",
    "**Brokers:** Are the middle man between investors and the stock exchange. Investors can contact brokers to buy and sell shares from the stock exchange."
   ]
  },
  {
   "cell_type": "markdown",
   "id": "1b2ac0a6",
   "metadata": {},
   "source": [
    "## Why do stock prices fluctuate?"
   ]
  },
  {
   "cell_type": "markdown",
   "id": "e1481502",
   "metadata": {},
   "source": [
    "**Lead concept:** Stock prices fluctuate due to supply and demand. If more people want to buy a given stock, then its price will increase. Prices decrease when more people want to sell a certain stock."
   ]
  },
  {
   "cell_type": "markdown",
   "id": "30109315",
   "metadata": {},
   "source": [
    "## What are the benefits to owning a stock?"
   ]
  },
  {
   "cell_type": "markdown",
   "id": "7d03db60",
   "metadata": {},
   "source": [
    "**Lead concept:** The stocks you own may grow (increase in price) and you can benefit from this growth by selling the stock. However, stocks can also decrease in value meaning you can lose money by selling at a lower price. This makes stocks a risky investment.\n",
    "\n",
    "Companies also pay investors in dividends. **Dividends** are payments to shareholders every quarter or six months, and the amount usually depends on the *profitability* of the company."
   ]
  },
  {
   "cell_type": "markdown",
   "id": "fb6c261b",
   "metadata": {},
   "source": [
    "## What is volatility?"
   ]
  },
  {
   "cell_type": "markdown",
   "id": "9b2b6a02",
   "metadata": {},
   "source": [
    "**Lead concept:** Volatility is the measurement of risk of a certain stock. Statistically, it is the **measure of the dispersion** for a given security, essentially, it represents the *degree of price fluctuation that as asset expriences over time.*\n",
    "\n",
    "**High volatility** means that the asset's price can change dramatically over a given time, which is a lot riskier. **Low volatility** means that the asset's price is more stable and changes less dramatically, this means lower risk.\n",
    "\n",
    "There are two main ways of measuring volatility:\n",
    "\n",
    "1. **Historical volatility** - uses the *standard deviation of an asset's price* over a certain period of time. Higher standard deviation means higher price fluctuations which results in higher volatility.\n",
    "\n",
    "2. **Implied volatility** - uses the *prices of options* of a certain asset or stock. Implied volatility is the market's expectation for future volatility and that is priced into the option contracts. It is a key component of the Black-Scholes model."
   ]
  }
 ],
 "metadata": {
  "kernelspec": {
   "display_name": "Python 3 (ipykernel)",
   "language": "python",
   "name": "python3"
  },
  "language_info": {
   "codemirror_mode": {
    "name": "ipython",
    "version": 3
   },
   "file_extension": ".py",
   "mimetype": "text/x-python",
   "name": "python",
   "nbconvert_exporter": "python",
   "pygments_lexer": "ipython3",
   "version": "3.9.13"
  }
 },
 "nbformat": 4,
 "nbformat_minor": 5
}
