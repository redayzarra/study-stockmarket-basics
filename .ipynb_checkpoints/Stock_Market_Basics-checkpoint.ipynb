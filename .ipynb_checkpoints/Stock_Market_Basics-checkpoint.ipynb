{
 "cells": [
  {
   "cell_type": "markdown",
   "id": "5cb8abef",
   "metadata": {},
   "source": [
    "# Stock Market Basics"
   ]
  },
  {
   "cell_type": "markdown",
   "id": "8fda234c",
   "metadata": {},
   "source": [
    "### by ReDay Zarra"
   ]
  },
  {
   "cell_type": "markdown",
   "id": "2ea8cce3",
   "metadata": {},
   "source": [
    "## Time Value of Money"
   ]
  },
  {
   "cell_type": "markdown",
   "id": "e9d147ba",
   "metadata": {},
   "source": [
    "**Lead concept:** The time value of money (X dollars) is worth more than money in year's time. This is because we may invest the X dollars today to buy stocks and other investments.\n",
    "> Future money is worth less because inflation causes prices to increase which decreases buying power."
   ]
  }
 ],
 "metadata": {
  "kernelspec": {
   "display_name": "Python 3 (ipykernel)",
   "language": "python",
   "name": "python3"
  },
  "language_info": {
   "codemirror_mode": {
    "name": "ipython",
    "version": 3
   },
   "file_extension": ".py",
   "mimetype": "text/x-python",
   "name": "python",
   "nbconvert_exporter": "python",
   "pygments_lexer": "ipython3",
   "version": "3.9.13"
  }
 },
 "nbformat": 4,
 "nbformat_minor": 5
}
