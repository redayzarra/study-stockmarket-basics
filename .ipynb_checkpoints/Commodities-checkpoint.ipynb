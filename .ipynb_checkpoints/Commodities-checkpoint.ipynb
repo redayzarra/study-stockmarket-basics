{
 "cells": [
  {
   "cell_type": "markdown",
   "id": "720e774d",
   "metadata": {},
   "source": [
    "# Commodities - Stock Market Basics"
   ]
  },
  {
   "cell_type": "markdown",
   "id": "092e97af",
   "metadata": {},
   "source": [
    "### by ReDay Zarra"
   ]
  },
  {
   "cell_type": "markdown",
   "id": "87afb922",
   "metadata": {},
   "source": [
    "**Commodities:** Raw products such as gold, oil, or natural gas. Investing in commoditites is not as simple because it is difficult to own a barrel of oil or natural gas. \n",
    "\n",
    "Generally, commodities *are extremely volatile* meaning their prices can change dramatically."
   ]
  },
  {
   "cell_type": "markdown",
   "id": "9df15669",
   "metadata": {},
   "source": [
    "## Why do commodity prices fluctuate?"
   ]
  },
  {
   "cell_type": "markdown",
   "id": "e56099c5",
   "metadata": {},
   "source": [
    "**Lead concept:** Commodity prices fluctuate because of supply and demand. The more people who want to buy a commodity, the more the price increases. The price decreases if the supply increases.\n",
    "\n",
    "**Future contracts:** are created by producers and suppliers of commodities to avoid market volatility. They negotiate the price of a given commodity in the future."
   ]
  },
  {
   "cell_type": "markdown",
   "id": "070923f3",
   "metadata": {},
   "source": [
    "## Where can you buy commodities?"
   ]
  },
  {
   "cell_type": "markdown",
   "id": "3f7a9d66",
   "metadata": {},
   "source": [
    "**Future market:** An auction market where people buy and sell commodities and future contracts. Investors do not have direct access to the future market.\n",
    "\n",
    "**Future brokers:** Investors can contact future brokers to buy or sell commodities on the future market. "
   ]
  },
  {
   "cell_type": "markdown",
   "id": "ef37b372",
   "metadata": {},
   "source": [
    "## What are the benefits to owning commodities?"
   ]
  },
  {
   "cell_type": "markdown",
   "id": "b10cde89",
   "metadata": {},
   "source": [
    "**Lead concept:** Commodity prices typically rise when inflation increases. This means that commodities can *offer protection from the negative affects of inflation*. \n",
    "\n",
    "**Pair trading strategy:** If we cannot invest into a commodity directly then we can *invest into a company that is closely related to the target commodity*. For example, if we aren't able to invest in avocados then we can invest in the companies that produce or distribute them. There may be some variance based on the company's performance but there is *usually positive correlation.* "
   ]
  }
 ],
 "metadata": {
  "kernelspec": {
   "display_name": "Python 3 (ipykernel)",
   "language": "python",
   "name": "python3"
  },
  "language_info": {
   "codemirror_mode": {
    "name": "ipython",
    "version": 3
   },
   "file_extension": ".py",
   "mimetype": "text/x-python",
   "name": "python",
   "nbconvert_exporter": "python",
   "pygments_lexer": "ipython3",
   "version": "3.9.13"
  }
 },
 "nbformat": 4,
 "nbformat_minor": 5
}
