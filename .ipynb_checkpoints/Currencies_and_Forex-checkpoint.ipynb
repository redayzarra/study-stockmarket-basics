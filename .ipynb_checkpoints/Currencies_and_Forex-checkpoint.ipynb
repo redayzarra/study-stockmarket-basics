{
 "cells": [
  {
   "cell_type": "markdown",
   "id": "af977223",
   "metadata": {},
   "source": [
    "# Currencies & Forex - Stock Market Basics"
   ]
  },
  {
   "cell_type": "markdown",
   "id": "ee3d1569",
   "metadata": {},
   "source": [
    "### by ReDay Zarra"
   ]
  },
  {
   "cell_type": "markdown",
   "id": "c7e5d2a8",
   "metadata": {},
   "source": [
    "**Exchange rate:** is the rate at which one national currency will be exchanged for another. It tells you how much a given currency is worth in another currency.\n",
    "\n",
    "**Lead concept:** Governments and central banks can influence the currencies and exchange rates. "
   ]
  },
  {
   "cell_type": "markdown",
   "id": "26c5298f",
   "metadata": {},
   "source": [
    "## Why do exchange rates fluctuate?"
   ]
  },
  {
   "cell_type": "markdown",
   "id": "472f001b",
   "metadata": {},
   "source": [
    "**Lead concept:** Exchange rates increase as demand increases, if more people want to buy it then the price increases. The price falls when more people want to sell, which means supply increased. \n",
    "\n",
    "**Forex market:** Is the market for exchanging currencies. Investors don't have direct contact with the forex market, they have to contact brokers to buy or sell currencies."
   ]
  },
  {
   "cell_type": "markdown",
   "id": "ab0c67fd",
   "metadata": {},
   "source": [
    "## What affects exchange rates?"
   ]
  },
  {
   "cell_type": "markdown",
   "id": "e233da48",
   "metadata": {},
   "source": [
    "**Interest rates:** A major factor that can be influenced by the central bank. Interest rate means that the bank will pay investors higher interest on their investments (lending to banks), this means higher returns. A **higher interest rate raises demand** as more people want to buy the currency and get higher returns. \n",
    "\n",
    "**Money supply:** Central bank may cause inflation if they print too much money. Investors avoid currencies with higher inflation because it can push the value of the currency down. \n",
    "\n",
    "**Economic growth:** Strong economic growth for a certain country will increase demand for the country's goods and services. This means that more foreign capital causes the country's exchange rate to increase.\n",
    "\n",
    "**Trade balance:** Is the difference between a country's imports and exports. A trade surplus (more exports than imports) increases demand for the country's currency and increases it. A trade deficit (less exports than imports) causes the demand to decrease which may cause the exchange rate to decrease."
   ]
  },
  {
   "cell_type": "markdown",
   "id": "e3f1642b",
   "metadata": {},
   "source": [
    "## What is arbitrage?"
   ]
  },
  {
   "cell_type": "markdown",
   "id": "33560166",
   "metadata": {},
   "source": [
    "**Arbitrage:** is a trading strategy that involves simultaneously *buying or selling indentical or related financial instruments* to take advantage of price discrepancies. \n",
    "\n",
    "**Lead concept:** The *goal of arbitrage is to profit from the differences in prices without taking significant risk* since the transactions are taken on a much smaller time frame. Arbitrage opportunities can arise due to various factors, such as market inefficiencies, mispricing, or differences in liquidity. These opportunities are often short-lived, as market participants quickly identify and exploit them, causing prices to converge and eliminating the arbitrage opportunity."
   ]
  }
 ],
 "metadata": {
  "kernelspec": {
   "display_name": "Python 3 (ipykernel)",
   "language": "python",
   "name": "python3"
  },
  "language_info": {
   "codemirror_mode": {
    "name": "ipython",
    "version": 3
   },
   "file_extension": ".py",
   "mimetype": "text/x-python",
   "name": "python",
   "nbconvert_exporter": "python",
   "pygments_lexer": "ipython3",
   "version": "3.9.13"
  }
 },
 "nbformat": 4,
 "nbformat_minor": 5
}
