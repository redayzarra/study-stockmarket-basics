{
 "cells": [
  {
   "cell_type": "markdown",
   "id": "d4f48750",
   "metadata": {},
   "source": [
    "# Currencies & Forex - Stock Market Basics"
   ]
  },
  {
   "cell_type": "markdown",
   "id": "f974ee1e",
   "metadata": {},
   "source": [
    "### by ReDay Zarra"
   ]
  },
  {
   "cell_type": "markdown",
   "id": "174ae9a3",
   "metadata": {},
   "source": [
    "**Exchange rate:** is the rate at which one national currency will be exchanged for another. It tells you how much a given currency is worth in another currency.\n",
    "\n",
    "**Lead concept:** Governments and central banks can influence the currencies and exchange rates. "
   ]
  },
  {
   "cell_type": "markdown",
   "id": "3749a16d",
   "metadata": {},
   "source": [
    "## Why do exchange rates fluctuate?"
   ]
  },
  {
   "cell_type": "markdown",
   "id": "ec43361d",
   "metadata": {},
   "source": [
    "**Lead concept:** Exchange rates increase as demand increases, if more people want to buy it then the price increases. The price falls when more people want to sell, which means supply increased. \n",
    "\n",
    "**Forex market:** Is the market for exchanging currencies. Investors don't have direct contact with the forex market, they have to contact brokers to buy or sell currencies."
   ]
  },
  {
   "cell_type": "markdown",
   "id": "20e6bab8",
   "metadata": {},
   "source": [
    "## What affects exchange rates?"
   ]
  },
  {
   "cell_type": "markdown",
   "id": "4c3fdabb",
   "metadata": {},
   "source": [
    "**Interest rates:** A major factor that can be influenced by the central bank. Interest rate means that the bank will pay investors higher interest on their investments (lending to banks), this means higher returns. A **higher interest rate raises demand** as more people want to buy the currency and get higher returns. \n",
    "\n",
    "**Money supply:** Central bank may cause inflation if they print too much money. Investors avoid currencies with higher inflation because it can push the value of the currency down. \n",
    "\n",
    "**Economic growth:** Strong economic growth for a certain country will increase demand for the country's goods and services. This means that more foreign capital causes the country's exchange rate to increase.\n",
    "\n",
    "**Trade balance:** Is the difference between a country's imports and exports. A trade surplus (more exports than imports) increases demand for the country's currency and increases it. A trade deficit (less exports than imports) causes the demand to decrease which may cause the exchange rate to decrease."
   ]
  },
  {
   "cell_type": "markdown",
   "id": "8a6142a0",
   "metadata": {},
   "source": [
    "## What is arbitrage?"
   ]
  },
  {
   "cell_type": "markdown",
   "id": "24f63fb0",
   "metadata": {},
   "source": [
    "**Arbitrage:** is a trading strategy that involves simultaneously *buying or selling indentical or related financial instruments* to take advantage of price discrepancies. For example, if we convert USD into CAD into EUR... after converting back to USD we can have more money then we started with.\n",
    "\n",
    "**Lead concept:** The *goal of arbitrage is to profit from the differences in prices without taking significant risk* since the transactions are taken on a much smaller time frame. Arbitrage opportunities can arise due to various factors, such as market inefficiencies, mispricing, or differences in liquidity. These opportunities are often short-lived, as market participants quickly identify and exploit them, causing prices to converge and eliminating the arbitrage opportunity.\n",
    "\n",
    "We can find arbitrage by constructing a *node-based graph for certain currencies*. The nodes will contain the value of the currency (V) and the paths between currencies will be their relative values (E). For the paths, we take the natural log of the paths and multiply it by -1.\n",
    "\n",
    "> We end up with negative paths and the negative cycles are the arbitrage opportunities. We can use the **Bellman-Ford shorted path algorithm to find the negative cycles** in O(n*m) running time."
   ]
  },
  {
   "cell_type": "markdown",
   "id": "470ffbaf",
   "metadata": {},
   "source": [
    "## Bellman-Ford Algorithm"
   ]
  },
  {
   "cell_type": "markdown",
   "id": "4113a5d6",
   "metadata": {},
   "source": [
    "**Lead concept:** The Bellman-Ford algorithm is an algorithm used in graph theory to *find the shortest path from a single source vertex to all other vertices in a weighted, directed graph*. Unlike Dijkstra's algorithm, which only works with non-negative edge weights, the **Bellman-Ford algorithm can handle graphs with negative edge weights**, making it more versatile. However, it cannot handle graphs with negative-weight cycles, as such cycles would result in an infinitely decreasing path length."
   ]
  },
  {
   "cell_type": "markdown",
   "id": "486ea113",
   "metadata": {},
   "source": [
    "### Implementation"
   ]
  },
  {
   "cell_type": "code",
   "execution_count": 1,
   "id": "0fa4df59",
   "metadata": {},
   "outputs": [],
   "source": [
    "import math\n",
    "\n",
    "def create_weighted_graph(rates):\n",
    "    graph = {}\n",
    "    for from_currency in rates:\n",
    "        graph[from_currency] = []\n",
    "        for to_currency, rate in rates[from_currency].items():\n",
    "            weight = -math.log(rate) # Taking the natural log and multiplying by -1\n",
    "            graph[from_currency].append((to_currency, weight))\n",
    "    return graph\n",
    "\n",
    "def find_arbitrage(graph):\n",
    "    source_vertex = list(graph.keys())[0] # Choosing to start from the first node\n",
    "    distances = {vertex: float('infinity') for vertex in graph}\n",
    "    distances[source_vertex] = 0\n",
    "\n",
    "    # Relax edges |V|-1 times\n",
    "    for _ in range(len(graph) - 1):\n",
    "        for vertex in graph:\n",
    "            for neighbor, weight in graph[vertex]:\n",
    "                new_distance = distances[vertex] + weight\n",
    "                if new_distance < distances[neighbor]:\n",
    "                    distances[neighbor] = new_distance\n",
    "\n",
    "    # Check for negative-weight cycles\n",
    "    for vertex in graph:\n",
    "        for neighbor, weight in graph[vertex]:\n",
    "            if distances[vertex] + weight < distances[neighbor]:\n",
    "                return True  # Arbitrage opportunity found\n",
    "\n",
    "    return False  # No arbitrage opportunity found"
   ]
  },
  {
   "cell_type": "markdown",
   "id": "a01ae35f",
   "metadata": {},
   "source": [
    "In this implementation, the \"create_weighted_graph\" function takes the exchange rates as input and transforms them into a weighted graph. The graph is represented as a dictionary, where each key is a currency, and the corresponding value is a list of tuples containing the neighboring currencies and their edge weights. Edge weights are calculated as the negative logarithm of the exchange rate.\n",
    "\n",
    "The find_arbitrage function takes the weighted graph as input and checks for the presence of negative cycles using a modified Bellman-Ford algorithm. If a negative cycle is detected, it returns True, indicating that an arbitrage opportunity exists. Otherwise, it returns False."
   ]
  }
 ],
 "metadata": {
  "kernelspec": {
   "display_name": "Python 3 (ipykernel)",
   "language": "python",
   "name": "python3"
  },
  "language_info": {
   "codemirror_mode": {
    "name": "ipython",
    "version": 3
   },
   "file_extension": ".py",
   "mimetype": "text/x-python",
   "name": "python",
   "nbconvert_exporter": "python",
   "pygments_lexer": "ipython3",
   "version": "3.9.13"
  }
 },
 "nbformat": 4,
 "nbformat_minor": 5
}
